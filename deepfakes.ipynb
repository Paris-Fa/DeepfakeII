{
 "cells": [
  {
   "cell_type": "markdown",
   "metadata": {},
   "source": [
    "#### Voice conversion training"
   ]
  },
  {
   "cell_type": "code",
   "execution_count": null,
   "metadata": {},
   "outputs": [],
   "source": [
    "# voice conversion pre-processing\n",
    "!python deepfakes.py vc-pre-processing\n"
   ]
  },
  {
   "cell_type": "code",
   "execution_count": null,
   "metadata": {},
   "outputs": [],
   "source": [
    "# voice conversion train\n",
    "!python deepfakes.py vc-train --max-epoch 5000"
   ]
  },
  {
   "cell_type": "markdown",
   "metadata": {},
   "source": [
    "#### Inference"
   ]
  },
  {
   "cell_type": "code",
   "execution_count": null,
   "metadata": {
    "metadata": {}
   },
   "outputs": [],
   "source": [
    "# text to speech\n",
    "!python deepfakes.py tts-bark\n",
    "    # --input-path ./data/input/text/text.txt \\\n",
    "    # --output-dir ./data/tts \\\n",
    "    # --speaker \"v2/de_speaker_4\""
   ]
  },
  {
   "cell_type": "code",
   "execution_count": null,
   "metadata": {
    "metadata": {}
   },
   "outputs": [],
   "source": [
    "# voice conversion\n",
    "!python deepfakes.py vc-infer\n",
    "    # --input-path ./data/tts/audio.wav \\\n",
    "    # --model-path ./data/vc_train/model/G_5000.pth \\\n",
    "    # --config-path ./data/vc_train/configs/config.json"
   ]
  },
  {
   "cell_type": "code",
   "execution_count": null,
   "metadata": {
    "metadata": {}
   },
   "outputs": [],
   "source": [
    "# lip-sync\n",
    "!python deepfakes.py lip-sync \n",
    "    # --audio-path ./data/vc/converted_audio.wav \\\n",
    "    # --video-path ./data/input/video/video.mp4 \\\n",
    "    # --output-dir ./data/lip_sync \\\n",
    "    # --start-frame 10"
   ]
  },
  {
   "cell_type": "code",
   "execution_count": null,
   "metadata": {},
   "outputs": [],
   "source": [
    "# translation\n",
    "!python deepfakes.py translate-text\n",
    "#--german-text-path ./data/input/text/german-text\n",
    "#--output-dir ./data/input/text"
   ]
  },
  {
   "cell_type": "code",
   "execution_count": null,
   "metadata": {},
   "outputs": [],
   "source": [
    "# Dubbing\n",
    "!python dub.py\n",
    "#--english_audio_dir ./data/vc\n",
    "#--german_video_dir  ./data/grinput\n",
    "#--output-dir        .data/dub-output/"
   ]
  }
 ],
 "metadata": {
  "kernelspec": {
   "display_name": "deepfake-env",
   "language": "python",
   "name": "python3"
  },
  "language_info": {
   "codemirror_mode": {
    "name": "ipython",
    "version": 3
   },
   "file_extension": ".py",
   "mimetype": "text/x-python",
   "name": "python",
   "nbconvert_exporter": "python",
   "pygments_lexer": "ipython3",
   "version": "3.11.5"
  }
 },
 "nbformat": 4,
 "nbformat_minor": 2
}
